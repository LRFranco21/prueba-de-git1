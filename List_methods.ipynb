{
 "cells": [
  {
   "cell_type": "markdown",
   "id": "08cd1517",
   "metadata": {},
   "source": [
    "## First method \".count()\""
   ]
  },
  {
   "cell_type": "code",
   "execution_count": 4,
   "id": "29688fe9",
   "metadata": {},
   "outputs": [
    {
     "name": "stdout",
     "output_type": "stream",
     "text": [
      "4\n"
     ]
    }
   ],
   "source": [
    "numbers = [1,1,111,1,2,3,43,4,6,7,6,7,43,86,23,1,2]\n",
    "\n",
    "#Necesitamos saber cuantas veces se encuentra el numero 1 en la lista numbers\n",
    "#Usa el metodo count e imprime el resultado\n",
    "\n",
    "#ejmplo:\n",
    "\n",
    "#list_name.count(elmt)\n",
    "\n",
    "#Tu codigo aqui abajo:\n",
    "print(numbers.count(1))\n",
    "\n",
    "\n"
   ]
  },
  {
   "cell_type": "markdown",
   "id": "ddebda14",
   "metadata": {},
   "source": [
    "## Second method \".insert()\""
   ]
  },
  {
   "cell_type": "code",
   "execution_count": 17,
   "id": "6210d1f4",
   "metadata": {},
   "outputs": [
    {
     "name": "stdout",
     "output_type": "stream",
     "text": [
      "lista mala ['a', 'b', 'd', 'e', 'f', 'g', 'h', 'i', 'j', 'k', 'l', 'm', 'o']\n",
      "['a', 'b', 'c', 'd', 'e', 'f', 'g', 'h', 'i', 'j', 'k', 'l', 'm', 'n', 'o']\n"
     ]
    }
   ],
   "source": [
    "abc = ['a', 'b', 'd', 'e', 'f', 'g', 'h', 'i', 'j', 'k', 'l', 'm', 'o']\n",
    "\n",
    "#Necesitamos insertar las letras 'c' y 'n' en la lista de arriba segun el orden del abecedario\n",
    "#Usa el metodo insert e imprime la lista mala y la lista arreglada.\n",
    "\n",
    "#ejemplo:\n",
    "#list_name.insert(index, elmt)\n",
    "\n",
    "\n",
    "#Tu codigo aqui abajo:\n",
    "print(\"lista mala\", abc)\n",
    "\n",
    "abc.insert(2, 'c')\n",
    "abc.insert(-1,'n')\n",
    "print(abc)"
   ]
  },
  {
   "cell_type": "markdown",
   "id": "ca98138e",
   "metadata": {},
   "source": [
    "## Third method \".pop()\""
   ]
  },
  {
   "cell_type": "code",
   "execution_count": 18,
   "id": "b0382e63",
   "metadata": {},
   "outputs": [
    {
     "name": "stdout",
     "output_type": "stream",
     "text": [
      "['Rhinstone Eyes', 'Centuries', 'La Perla', 'Me porto bonito', 'Back in Black', 'Hells Bells']\n"
     ]
    }
   ],
   "source": [
    "bad_songs = [\"Rhinstone Eyes\", \"Centuries\", \"Bichota\", \"La Perla\", \"Last Train to London\", \"Me porto bonito\", \"Back in Black\", \"Hells Bells\"]\n",
    "\n",
    "#Elimina las canciones que tu creas que son una abominacion para nuestros oidos.\n",
    "#Usa el metodo pop e imprima la lista ya arreglada\n",
    "\n",
    "#ejemplo:\n",
    "#list_name.pop(index)\n",
    "bad_songs.pop(2)\n",
    "\n",
    "bad_songs.pop(3)\n",
    "print(bad_songs)\n"
   ]
  },
  {
   "cell_type": "markdown",
   "id": "fe8b0c2f",
   "metadata": {},
   "source": [
    "## Fourth method \"range()\""
   ]
  },
  {
   "cell_type": "code",
   "execution_count": 19,
   "id": "3ab6d641",
   "metadata": {},
   "outputs": [
    {
     "name": "stdout",
     "output_type": "stream",
     "text": [
      "[1, 2, 3, 4, 5, 6, 7, 8, 9, 10, 11, 12, 13, 14, 15, 16, 17, 18, 19, 20]\n",
      "[5, 10, 15, 20, 25, 30, 35, 40, 45, 50, 55, 60, 65, 70, 75, 80, 85, 90, 95, 100]\n"
     ]
    }
   ],
   "source": [
    "#Necesitamos una lista que contenga los numeros del 1 al 20 \n",
    "#Y tambien otra lista que contenga los numeros del 5 al 100\n",
    "#pero deben de ir cada 5, empezando con el 5 y terminando con el 100\n",
    "\n",
    "#ejemplo:\n",
    "\n",
    "#list_name = list(range(start, end+1, jump))\n",
    "\n",
    "#Tu codigo aqui abajo:\n",
    "\n",
    "list_20=list(range(1,21))\n",
    "print(list_20)\n",
    "list_5_100= list(range(5,101,5))\n",
    "print(list_5_100)"
   ]
  },
  {
   "cell_type": "markdown",
   "id": "98f5944c",
   "metadata": {},
   "source": [
    "## Fifth method \"len()\""
   ]
  },
  {
   "cell_type": "code",
   "execution_count": 21,
   "id": "30e0171c",
   "metadata": {},
   "outputs": [
    {
     "name": "stdout",
     "output_type": "stream",
     "text": [
      "20\n",
      "267\n",
      "[1, 11, 21, 31, 41, 51, 61, 71, 81, 91, 101, 111, 121, 131, 141, 151, 161, 171, 181, 191]\n",
      "[200, 203, 206, 209, 212, 215, 218, 221, 224, 227, 230, 233, 236, 239, 242, 245, 248, 251, 254, 257, 260, 263, 266, 269, 272, 275, 278, 281, 284, 287, 290, 293, 296, 299, 302, 305, 308, 311, 314, 317, 320, 323, 326, 329, 332, 335, 338, 341, 344, 347, 350, 353, 356, 359, 362, 365, 368, 371, 374, 377, 380, 383, 386, 389, 392, 395, 398, 401, 404, 407, 410, 413, 416, 419, 422, 425, 428, 431, 434, 437, 440, 443, 446, 449, 452, 455, 458, 461, 464, 467, 470, 473, 476, 479, 482, 485, 488, 491, 494, 497, 500, 503, 506, 509, 512, 515, 518, 521, 524, 527, 530, 533, 536, 539, 542, 545, 548, 551, 554, 557, 560, 563, 566, 569, 572, 575, 578, 581, 584, 587, 590, 593, 596, 599, 602, 605, 608, 611, 614, 617, 620, 623, 626, 629, 632, 635, 638, 641, 644, 647, 650, 653, 656, 659, 662, 665, 668, 671, 674, 677, 680, 683, 686, 689, 692, 695, 698, 701, 704, 707, 710, 713, 716, 719, 722, 725, 728, 731, 734, 737, 740, 743, 746, 749, 752, 755, 758, 761, 764, 767, 770, 773, 776, 779, 782, 785, 788, 791, 794, 797, 800, 803, 806, 809, 812, 815, 818, 821, 824, 827, 830, 833, 836, 839, 842, 845, 848, 851, 854, 857, 860, 863, 866, 869, 872, 875, 878, 881, 884, 887, 890, 893, 896, 899, 902, 905, 908, 911, 914, 917, 920, 923, 926, 929, 932, 935, 938, 941, 944, 947, 950, 953, 956, 959, 962, 965, 968, 971, 974, 977, 980, 983, 986, 989, 992, 995, 998]\n"
     ]
    }
   ],
   "source": [
    "lst_1 = list(range(1,200,10))\n",
    "lst_2 = list(range(200, 1000, 3))\n",
    "\n",
    "#Necesitamos saber la cantidad de elementos que tiene cada lista\n",
    "#Usa el metodo len para saber cuanto mide cada lista e imprime el resultado\n",
    "\n",
    "#ejemplo:\n",
    "#len(list_name)\n",
    "\n",
    "#Tu codigo aqui abajo:\n",
    "\n",
    "print(len(lst_1))\n",
    "print(len(lst_2))\n",
    "print(str(lst_1))\n",
    "print(lst_2)"
   ]
  },
  {
   "cell_type": "markdown",
   "id": "cfe74fb0",
   "metadata": {},
   "source": [
    "## Sixth method \"sorted() / .sort()\""
   ]
  },
  {
   "cell_type": "code",
   "execution_count": 26,
   "id": "65443472",
   "metadata": {},
   "outputs": [
    {
     "name": "stdout",
     "output_type": "stream",
     "text": [
      "['Bonito', 'Clavito', 'Clavo', 'Clavo', 'Es', 'Little Pablito', 'Lo', 'No', 'Pablito', 'Pablito', 'Pasmadito', 'Tuvo', 'Un', 'Un', 'Y']\n",
      "['Y', 'Un', 'Un', 'Tuvo', 'Pasmadito', 'Pablito', 'Pablito', 'No', 'Lo', 'Little Pablito', 'Es', 'Clavo', 'Clavo', 'Clavito', 'Bonito']\n"
     ]
    }
   ],
   "source": [
    "non_sorted_list = [\"Pablito\", \"Clavo\", \"Un\", \"Clavito\", \"Pablito\", \"Es\", \"Pasmadito\", \"No\", \"Lo\", \"Clavo\", \"Bonito\", \"Y\", \"Tuvo\", \"Un\", \"Little Pablito\"]\n",
    "\n",
    "#Usando el metodo sorted arregla la lista para que este ordenada por la primera letra, y luego hazlo alrevez.\n",
    "\n",
    "#ejemplo\n",
    "\n",
    "#sorted(name_list)\n",
    "#sorted(name_list, reverse=True)\n",
    "\n",
    "#Tu codigo aqui abajo:.\n",
    "+\n",
    "\n",
    "print(sorted(non_sorted_list))\n",
    "\n",
    "print(sorted(non_sorted_list, reverse=True))"
   ]
  },
  {
   "cell_type": "code",
   "execution_count": null,
   "id": "d3649a56",
   "metadata": {},
   "outputs": [],
   "source": []
  }
 ],
 "metadata": {
  "kernelspec": {
   "display_name": "Python 3 (ipykernel)",
   "language": "python",
   "name": "python3"
  },
  "language_info": {
   "codemirror_mode": {
    "name": "ipython",
    "version": 3
   },
   "file_extension": ".py",
   "mimetype": "text/x-python",
   "name": "python",
   "nbconvert_exporter": "python",
   "pygments_lexer": "ipython3",
   "version": "3.9.12"
  }
 },
 "nbformat": 4,
 "nbformat_minor": 5
}
