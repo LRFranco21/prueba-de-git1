{
 "cells": [
  {
   "cell_type": "code",
   "execution_count": 13,
   "id": "e6759653",
   "metadata": {},
   "outputs": [
    {
     "data": {
      "text/plain": [
       " Estadisticas:\n",
       "        vidas: 150, tipo pokemon: Planta, Ataques: 3\n",
       "            "
      ]
     },
     "execution_count": 13,
     "metadata": {},
     "output_type": "execute_result"
    }
   ],
   "source": [
    "class Pokemon_Planta():\n",
    "    def __init__(self, is_alive=True, vida=150, tipo=\"Planta\", ataques=3):\n",
    "        self.tipo=tipo\n",
    "        self.vida=vida\n",
    "        self.ataques=ataques\n",
    "        self.isa_live=is_alive\n",
    "        \n",
    "    def __repr__(self):\n",
    "        Estadisticas=f\"\"\" Estadisticas:\n",
    "        vidas: {self.vida}, tipo pokemon: {self.tipo}, Ataques: {self.ataques}\n",
    "            \"\"\"\n",
    "        return Estadisticas\n",
    "Torterra=Pokemon_Planta()     \n",
    "Torterra"
   ]
  },
  {
   "cell_type": "code",
   "execution_count": null,
   "id": "2b09f024",
   "metadata": {},
   "outputs": [],
   "source": []
  }
 ],
 "metadata": {
  "kernelspec": {
   "display_name": "Python 3 (ipykernel)",
   "language": "python",
   "name": "python3"
  },
  "language_info": {
   "codemirror_mode": {
    "name": "ipython",
    "version": 3
   },
   "file_extension": ".py",
   "mimetype": "text/x-python",
   "name": "python",
   "nbconvert_exporter": "python",
   "pygments_lexer": "ipython3",
   "version": "3.9.12"
  }
 },
 "nbformat": 4,
 "nbformat_minor": 5
}
